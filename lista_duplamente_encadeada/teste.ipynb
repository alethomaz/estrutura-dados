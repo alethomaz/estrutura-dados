{
 "cells": [
  {
   "cell_type": "code",
   "execution_count": 32,
   "metadata": {},
   "outputs": [],
   "source": [
    "from lista_duplamente_encadeada import ListaDuplamenteEncadeada"
   ]
  },
  {
   "cell_type": "code",
   "execution_count": 33,
   "metadata": {},
   "outputs": [],
   "source": [
    "lista_1 = ListaDuplamenteEncadeada()"
   ]
  },
  {
   "cell_type": "code",
   "execution_count": 34,
   "metadata": {},
   "outputs": [
    {
     "name": "stdout",
     "output_type": "stream",
     "text": [
      "1\n",
      "Tamanho da lista: 1\n"
     ]
    }
   ],
   "source": [
    "lista_1.inserirComoPrimeiro(1)\n",
    "lista_1.acessarAtual()\n",
    "lista_1.imprimir()"
   ]
  },
  {
   "cell_type": "code",
   "execution_count": 44,
   "metadata": {},
   "outputs": [
    {
     "name": "stdout",
     "output_type": "stream",
     "text": [
      "3\n",
      "1\n",
      "4\n",
      "2\n",
      "2\n",
      "Tamanho da lista: 5\n"
     ]
    }
   ],
   "source": [
    "lista_1.inserirComoUltimo(2)\n",
    "lista_1.acessarAtual()\n",
    "lista_1.imprimir()"
   ]
  },
  {
   "cell_type": "code",
   "execution_count": 43,
   "metadata": {},
   "outputs": [
    {
     "name": "stdout",
     "output_type": "stream",
     "text": [
      "3\n",
      "1\n",
      "4\n",
      "2\n",
      "Tamanho da lista: 4\n"
     ]
    }
   ],
   "source": [
    "lista_1.inserirAntesDoAtual(3)\n",
    "lista_1.acessarAtual()\n",
    "lista_1.imprimir()"
   ]
  },
  {
   "cell_type": "code",
   "execution_count": 45,
   "metadata": {},
   "outputs": [
    {
     "name": "stdout",
     "output_type": "stream",
     "text": [
      "3\n",
      "1\n",
      "4\n",
      "2\n",
      "2\n",
      "Tamanho da lista: 5\n"
     ]
    }
   ],
   "source": [
    "lista_1.inserirAposAtual(4)\n",
    "lista_1.acessarAtual()\n",
    "lista_1.imprimir()"
   ]
  },
  {
   "cell_type": "code",
   "execution_count": 48,
   "metadata": {},
   "outputs": [
    {
     "name": "stdout",
     "output_type": "stream",
     "text": [
      "1\n",
      "4\n",
      "2\n",
      "2\n",
      "Tamanho da lista: 4\n"
     ]
    }
   ],
   "source": [
    "lista_1.ExcluirPrim()\n",
    "lista_1.imprimir()"
   ]
  },
  {
   "cell_type": "code",
   "execution_count": 49,
   "metadata": {},
   "outputs": [
    {
     "name": "stdout",
     "output_type": "stream",
     "text": [
      "1\n",
      "4\n",
      "2\n",
      "Tamanho da lista: 2\n"
     ]
    }
   ],
   "source": [
    "lista_1.ExcluirUlt()\n",
    "lista_1.imprimir()"
   ]
  }
 ],
 "metadata": {
  "kernelspec": {
   "display_name": "Python 3",
   "language": "python",
   "name": "python3"
  },
  "language_info": {
   "codemirror_mode": {
    "name": "ipython",
    "version": 3
   },
   "file_extension": ".py",
   "mimetype": "text/x-python",
   "name": "python",
   "nbconvert_exporter": "python",
   "pygments_lexer": "ipython3",
   "version": "3.10.12"
  }
 },
 "nbformat": 4,
 "nbformat_minor": 2
}
